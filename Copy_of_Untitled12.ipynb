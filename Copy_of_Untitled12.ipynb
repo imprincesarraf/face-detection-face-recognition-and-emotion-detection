{
  "nbformat": 4,
  "nbformat_minor": 0,
  "metadata": {
    "colab": {
      "name": "Copy of Untitled12.ipynb",
      "provenance": [],
      "mount_file_id": "162kGk_kE4KkuiIKGOhIp2R7-BUJJlffK",
      "authorship_tag": "ABX9TyPr1zpVplEJ0x7hQEm6LYyB",
      "include_colab_link": true
    },
    "kernelspec": {
      "name": "python3",
      "display_name": "Python 3"
    },
    "language_info": {
      "name": "python"
    }
  },
  "cells": [
    {
      "cell_type": "markdown",
      "metadata": {
        "id": "view-in-github",
        "colab_type": "text"
      },
      "source": [
        "<a href=\"https://colab.research.google.com/github/imprincesarraf/face-detection-face-recognition-and-emotion-detection/blob/main/Copy_of_Untitled12.ipynb\" target=\"_parent\"><img src=\"https://colab.research.google.com/assets/colab-badge.svg\" alt=\"Open In Colab\"/></a>"
      ]
    },
    {
      "cell_type": "code",
      "execution_count": null,
      "metadata": {
        "id": "LRJuEik5_ZNb"
      },
      "outputs": [],
      "source": [
        "#import OpenCV module\n",
        "import cv2\n",
        "import os\n",
        "import numpy as np\n",
        "import matplotlib.pyplot as plt\n",
        "%matplotlib inline"
      ]
    },
    {
      "cell_type": "code",
      "source": [
        ""
      ],
      "metadata": {
        "id": "d56ZiiA2MxWG"
      },
      "execution_count": null,
      "outputs": []
    },
    {
      "cell_type": "code",
      "source": [
        "#function to detect face\n",
        "def detect_face (img):#convert the test image to gray image\n",
        "  gray = cv2.cvtColor (img, cv2.COLOR_BGR2GRAY)#load OpenCV face detector\n",
        "  face_cas = cv2.CascadeClassifier ('-File name.xml-')\n",
        "  faces = face_cas.detectMultiScale (gray, scaleFactor=1.3, minNeighbors=4);#if no faces are detected then return image\n",
        "  if (len (faces) == 0):\n",
        "    return None, None#extract the face\n",
        "  faces [0]=(x, y, w, h)#return only the face part\n",
        "  return gray[y: y+w, x: x+h], faces [0]"
      ],
      "metadata": {
        "id": "7XbrP7gFEyNZ"
      },
      "execution_count": null,
      "outputs": []
    },
    {
      "cell_type": "code",
      "source": [
        "#this function will read all persons' training images, detect face #from each image\n",
        "#and will return two lists of exactly same size, one list\n",
        "def prepare_training_data(data_folder_path):#------STEP-1--------\n",
        "#get the directories (one directory for each subject) in data folder\n",
        "  dirs = os.listdir(data_folder_path)\n",
        "  faces = []\n",
        "  labels = []\n",
        "  for dir_name in dirs:#our subject directories start with letter 's' so\n",
        "  #ignore any non-relevant directories if any\n",
        "    if not dir_name.startswith(\"s\"):\n",
        "      continue;#------STEP-2--------\n",
        "#extract label number of subject from dir_name\n",
        "#format of dir name = slabel\n",
        "#, so removing letter 's' from dir_name will give us label\n",
        "    label = int(dir_name.replace(\"s\", \"\"))#build path of directory containin images for current subject subject\n",
        "#sample subject_dir_path = \"training-data/s1\"\n",
        "    subject_dir_path = data_folder_path + \"/\" + dir_name#get the images names that are inside the given subject directory\n",
        "    subject_images_names = os.listdir(subject_dir_path)\n",
        "    #------STEP-3--------\n",
        "#go through each image name, read image,\n",
        "#detect face and add face to list of faces\n",
        "    for image_name in subject_images_names:#ignore system files like .DS_Store\n",
        "      if image_name.startswith(\".\"):\n",
        "        continue;#build image path\n",
        "#sample image path = training-data/s1/1.pgm\n",
        "  image_path = subject_dir_path + \"/\" + image_name#read image\n",
        "  image = cv2.imread(image_path)#display an image window to show the image\n",
        "  cv2.imshow(\"Training on image...\", image)\n",
        "  cv2.waitKey(100)#detect face\n",
        "  face, rect = detect_face(image)\n",
        "\n",
        "  #------STEP-4--------\n",
        "#we will ignore faces that are not detected\n",
        "  if face is not None:#add face to list of faces\n",
        "    faces.append(face)#add label for this face\n",
        "    labels.append(label)\n",
        "    cv2.destroyAllWindows()\n",
        "    cv2.waitKey(1)\n",
        "    cv2.destroyAllWindows()\n",
        "  return faces, labels#let's first prepare our training data\n",
        "#data will be in two lists of same size\n",
        "#one list will contain all the faces\n",
        "#and other list will contain respective labels for each face\n",
        "  print(\"Preparing data...\")\n",
        "  faces, labels = prepare_training_data(\"/content/drive/MyDrive/Images for Facial Recognition/Images for Facial Recognition\")\n",
        "  print(\"Data prepared\")\n",
        "\n",
        "  #print total faces and labels\n",
        "  print(\"Total faces: \", len(faces))\n",
        "  print(\"Total labels: \", len(labels))#create our LBPH face recognizer\n",
        "  face_recognizer = cv2.face.createLBPHFaceRecognizer()#train our face recognizer of our training faces\n",
        "  face_recognizer.train(faces, np.array(labels))#function to draw rectangle on image\n",
        "#according to given (x, y) coordinates and\n",
        "#given width and heigh\n",
        "def draw_rectangle(img, rect):\n",
        "  (x, y, w, h) = rect\n",
        "  cv2.rectangle(img, (x, y), (x+w, y+h), (0, 255, 0), 2)#function to draw text on give image starting from\n",
        "#passed (x, y) coordinates.\n",
        "def draw_text(img, text, x, y):\n",
        "  cv2.putText(img, text, (x, y), cv2.FONT_HERSHEY_PLAIN, 1.5, (0, 255, 0), 2)#this function recognizes the person in image passed\n",
        "#and draws a rectangle around detected face with name of the subject\n",
        "def predict(test_img):#make a copy of the image as we don't want to chang original image\n",
        "  img = test_img.copy() #detect face from the image\n",
        "  face, rect = detect_face(img)#predict the image using our face recognizer\n",
        "  label= face_recognizer.predict(face)#get name of respective label returned by face recognizer\n",
        "  label_text = subjects[label]#draw a rectangle around face detected\n",
        "  draw_rectangle(img, rect)#draw name of predicted person\n",
        "  draw_text(img, label_text, rect[0], rect[1]-5)\n",
        "  return img#load test images\n",
        "test_img1 = cv2.imread(\"test-data/test1.jpg\")\n",
        "test_img2 = cv2.imread(\"test-data/test2.jpg\")#perform a prediction\n",
        "predicted_img1 = predict(test_img1)\n",
        "predicted_img2 = predict(test_img2)\n",
        "print(\"Prediction complete\")#create a figure of 2 plots (one for each test image)\n",
        "f, (ax1, ax2) = plt.subplots(1, 2, figsize=(10, 5))#display test image1 result\n",
        "ax1.imshow(cv2.cvtColor(predicted_img1, cv2.COLOR_BGR2RGB))#display test image2 result\n",
        "ax2.imshow(cv2.cvtColor(predicted_img2, cv2.COLOR_BGR2RGB))#display both images\n",
        "cv2.imshow(\"Tom cruise test\", predicted_img1)\n",
        "cv2.imshow(\"Shahrukh Khan test\", predicted_img2)\n",
        "cv2.waitKey(0)\n",
        "cv2.destroyAllWindows()\n",
        "cv2.waitKey(1)\n",
        "cv2.destroyAllWindows()\n"
      ],
      "metadata": {
        "colab": {
          "base_uri": "https://localhost:8080/",
          "height": 366
        },
        "id": "g0b8BReIFanp",
        "outputId": "8c9829c5-9747-4371-cb6e-1b7df83a5f38"
      },
      "execution_count": null,
      "outputs": [
        {
          "output_type": "error",
          "ename": "AttributeError",
          "evalue": "ignored",
          "traceback": [
            "\u001b[0;31m---------------------------------------------------------------------------\u001b[0m",
            "\u001b[0;31mAttributeError\u001b[0m                            Traceback (most recent call last)",
            "\u001b[0;32m<ipython-input-37-a27763153187>\u001b[0m in \u001b[0;36m<module>\u001b[0;34m()\u001b[0m\n\u001b[1;32m     70\u001b[0m \u001b[0mtest_img1\u001b[0m \u001b[0;34m=\u001b[0m \u001b[0mcv2\u001b[0m\u001b[0;34m.\u001b[0m\u001b[0mimread\u001b[0m\u001b[0;34m(\u001b[0m\u001b[0;34m\"test-data/test1.jpg\"\u001b[0m\u001b[0;34m)\u001b[0m\u001b[0;34m\u001b[0m\u001b[0;34m\u001b[0m\u001b[0m\n\u001b[1;32m     71\u001b[0m \u001b[0mtest_img2\u001b[0m \u001b[0;34m=\u001b[0m \u001b[0mcv2\u001b[0m\u001b[0;34m.\u001b[0m\u001b[0mimread\u001b[0m\u001b[0;34m(\u001b[0m\u001b[0;34m\"test-data/test2.jpg\"\u001b[0m\u001b[0;34m)\u001b[0m\u001b[0;31m#perform a prediction\u001b[0m\u001b[0;34m\u001b[0m\u001b[0;34m\u001b[0m\u001b[0m\n\u001b[0;32m---> 72\u001b[0;31m \u001b[0mpredicted_img1\u001b[0m \u001b[0;34m=\u001b[0m \u001b[0mpredict\u001b[0m\u001b[0;34m(\u001b[0m\u001b[0mtest_img1\u001b[0m\u001b[0;34m)\u001b[0m\u001b[0;34m\u001b[0m\u001b[0;34m\u001b[0m\u001b[0m\n\u001b[0m\u001b[1;32m     73\u001b[0m \u001b[0mpredicted_img2\u001b[0m \u001b[0;34m=\u001b[0m \u001b[0mpredict\u001b[0m\u001b[0;34m(\u001b[0m\u001b[0mtest_img2\u001b[0m\u001b[0;34m)\u001b[0m\u001b[0;34m\u001b[0m\u001b[0;34m\u001b[0m\u001b[0m\n\u001b[1;32m     74\u001b[0m \u001b[0mprint\u001b[0m\u001b[0;34m(\u001b[0m\u001b[0;34m\"Prediction complete\"\u001b[0m\u001b[0;34m)\u001b[0m\u001b[0;31m#create a figure of 2 plots (one for each test image)\u001b[0m\u001b[0;34m\u001b[0m\u001b[0;34m\u001b[0m\u001b[0m\n",
            "\u001b[0;32m<ipython-input-37-a27763153187>\u001b[0m in \u001b[0;36mpredict\u001b[0;34m(test_img)\u001b[0m\n\u001b[1;32m     61\u001b[0m \u001b[0;31m#and draws a rectangle around detected face with name of the subject\u001b[0m\u001b[0;34m\u001b[0m\u001b[0;34m\u001b[0m\u001b[0;34m\u001b[0m\u001b[0m\n\u001b[1;32m     62\u001b[0m \u001b[0;32mdef\u001b[0m \u001b[0mpredict\u001b[0m\u001b[0;34m(\u001b[0m\u001b[0mtest_img\u001b[0m\u001b[0;34m)\u001b[0m\u001b[0;34m:\u001b[0m\u001b[0;31m#make a copy of the image as we don't want to chang original image\u001b[0m\u001b[0;34m\u001b[0m\u001b[0;34m\u001b[0m\u001b[0m\n\u001b[0;32m---> 63\u001b[0;31m   \u001b[0mimg\u001b[0m \u001b[0;34m=\u001b[0m \u001b[0mtest_img\u001b[0m\u001b[0;34m.\u001b[0m\u001b[0mcopy\u001b[0m\u001b[0;34m(\u001b[0m\u001b[0;34m)\u001b[0m \u001b[0;31m#detect face from the image\u001b[0m\u001b[0;34m\u001b[0m\u001b[0;34m\u001b[0m\u001b[0m\n\u001b[0m\u001b[1;32m     64\u001b[0m   \u001b[0mface\u001b[0m\u001b[0;34m,\u001b[0m \u001b[0mrect\u001b[0m \u001b[0;34m=\u001b[0m \u001b[0mdetect_face\u001b[0m\u001b[0;34m(\u001b[0m\u001b[0mimg\u001b[0m\u001b[0;34m)\u001b[0m\u001b[0;31m#predict the image using our face recognizer\u001b[0m\u001b[0;34m\u001b[0m\u001b[0;34m\u001b[0m\u001b[0m\n\u001b[1;32m     65\u001b[0m   \u001b[0mlabel\u001b[0m\u001b[0;34m=\u001b[0m \u001b[0mface_recognizer\u001b[0m\u001b[0;34m.\u001b[0m\u001b[0mpredict\u001b[0m\u001b[0;34m(\u001b[0m\u001b[0mface\u001b[0m\u001b[0;34m)\u001b[0m\u001b[0;31m#get name of respective label returned by face recognizer\u001b[0m\u001b[0;34m\u001b[0m\u001b[0;34m\u001b[0m\u001b[0m\n",
            "\u001b[0;31mAttributeError\u001b[0m: 'NoneType' object has no attribute 'copy'"
          ]
        }
      ]
    },
    {
      "cell_type": "code",
      "source": [
        ""
      ],
      "metadata": {
        "id": "0hfWYKPlKews"
      },
      "execution_count": null,
      "outputs": []
    }
  ]
}