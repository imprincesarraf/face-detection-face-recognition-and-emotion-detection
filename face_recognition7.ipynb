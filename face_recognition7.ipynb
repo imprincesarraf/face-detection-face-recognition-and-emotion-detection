{
  "nbformat": 4,
  "nbformat_minor": 0,
  "metadata": {
    "colab": {
      "name": "Untitled7.ipynb",
      "provenance": [],
      "authorship_tag": "ABX9TyPAwUJjyuw+sjNfSGk6SSno",
      "include_colab_link": true
    },
    "kernelspec": {
      "name": "python3",
      "display_name": "Python 3"
    },
    "language_info": {
      "name": "python"
    },
    "accelerator": "GPU"
  },
  "cells": [
    {
      "cell_type": "markdown",
      "metadata": {
        "id": "view-in-github",
        "colab_type": "text"
      },
      "source": [
        "<a href=\"https://colab.research.google.com/github/imprincesarraf/face-detection-face-recognition-and-emotion-detection/blob/main/face_recognition7.ipynb\" target=\"_parent\"><img src=\"https://colab.research.google.com/assets/colab-badge.svg\" alt=\"Open In Colab\"/></a>"
      ]
    },
    {
      "cell_type": "code",
      "execution_count": 1,
      "metadata": {
        "colab": {
          "base_uri": "https://localhost:8080/"
        },
        "id": "F-zx6vKTfNkj",
        "outputId": "932d9b88-e121-4bb8-e484-1e3d47d093ec"
      },
      "outputs": [
        {
          "output_type": "stream",
          "name": "stdout",
          "text": [
            "Looking in indexes: https://pypi.org/simple, https://us-python.pkg.dev/colab-wheels/public/simple/\n",
            "Requirement already satisfied: face_recognition in /usr/local/lib/python3.7/dist-packages (1.3.0)\n",
            "Requirement already satisfied: Click>=6.0 in /usr/local/lib/python3.7/dist-packages (from face_recognition) (7.1.2)\n",
            "Requirement already satisfied: dlib>=19.7 in /usr/local/lib/python3.7/dist-packages (from face_recognition) (19.18.0+zzzcolab20220513001918)\n",
            "Requirement already satisfied: numpy in /usr/local/lib/python3.7/dist-packages (from face_recognition) (1.21.6)\n",
            "Requirement already satisfied: face-recognition-models>=0.3.0 in /usr/local/lib/python3.7/dist-packages (from face_recognition) (0.3.0)\n",
            "Requirement already satisfied: Pillow in /usr/local/lib/python3.7/dist-packages (from face_recognition) (7.1.2)\n"
          ]
        }
      ],
      "source": [
        "!pip install face_recognition"
      ]
    },
    {
      "cell_type": "code",
      "source": [
        "import matplotlib.pyplot as plt\n",
        "from google.colab.patches import cv2_imshow\n",
        "import face_recognition \n",
        "import cv2 \n",
        "import numpy "
      ],
      "metadata": {
        "id": "QWqymHdbfOmK"
      },
      "execution_count": 2,
      "outputs": []
    },
    {
      "cell_type": "code",
      "source": [
        "from google.colab import drive\n",
        "drive.mount('/content/drive')"
      ],
      "metadata": {
        "colab": {
          "base_uri": "https://localhost:8080/"
        },
        "id": "Q272DGjxf7t8",
        "outputId": "41ff07ab-ce6c-4438-fb40-5275a7e72993"
      },
      "execution_count": 3,
      "outputs": [
        {
          "output_type": "stream",
          "name": "stdout",
          "text": [
            "Drive already mounted at /content/drive; to attempt to forcibly remount, call drive.mount(\"/content/drive\", force_remount=True).\n"
          ]
        }
      ]
    },
    {
      "cell_type": "code",
      "source": [
        "from PIL import Image\n",
        "import face_recognition\n",
        "image=face_recognition.load_image_file('/content/drive/MyDrive/Untitled folder/test.jpg')\n",
        "face_locations=face_recognition.face_locations(image)\n",
        "print(face_locations)\n",
        "\n",
        "for face_location in face_locations:\n",
        "  top,right,bottom,left=face_location\n",
        "  face_image=image[top:bottom,left:right]\n",
        "  pil_image=Image.fromarray(face_image)\n",
        "  pil_image.show()\n",
        "  pil_image.save(f'{top}.jpg')"
      ],
      "metadata": {
        "id": "1DFQ6KQEf8yo",
        "outputId": "7e792a7b-76fb-4025-b706-9cd0fa551716",
        "colab": {
          "base_uri": "https://localhost:8080/"
        }
      },
      "execution_count": 4,
      "outputs": [
        {
          "output_type": "stream",
          "name": "stdout",
          "text": [
            "[(146, 1826, 190, 1783), (308, 1425, 360, 1374), (295, 1011, 385, 922), (626, 149, 688, 87), (806, 792, 868, 729), (827, 1421, 889, 1358), (161, 564, 204, 520), (142, 785, 205, 722), (105, 187, 179, 113), (159, 354, 211, 302), (136, 1195, 188, 1143), (803, 1220, 892, 1131), (988, 1420, 1040, 1368), (285, 1829, 337, 1777), (468, 1408, 511, 1365), (487, 981, 530, 938), (813, 142, 875, 80), (823, 1831, 866, 1788), (792, 348, 844, 296), (285, 792, 375, 703), (488, 1828, 550, 1766), (315, 1638, 405, 1549), (319, 156, 362, 112), (658, 1177, 694, 1141), (521, 573, 564, 530), (474, 1621, 536, 1559), (644, 583, 733, 494), (304, 1249, 378, 1174)]\n"
          ]
        }
      ]
    },
    {
      "cell_type": "code",
      "source": [
        "import face_recognition\n",
        "from PIL import Image,ImageDraw\n",
        "\n",
        "known_face_names=[\"Aditya Kumar Soni\",\n",
        "                  \"Amar Sarkar\",\"Amit Kumar\",\"Ankit Singh\",\"Ashpreet Kaur\",\"Kumar Sharma\",\"Dvarkesh Gupta\",\"Harshit Omar\",\"Harsh Rai\",\"Hrishikant Mehta\",\"jayshree\",\"Kanchan Kumar\",\"Manish Kumar\",\"Mayank Kumar\",\"Nandani Shah\",\"Navnita\",\"Neetu\",\"Nitesh agrahari\",\"Nitesh kumar\",\"Paras Tiwari\",\"Pooja Yadav\",\"Priya Chowdhury\",\"Puneet Kumar\",\"Rishikant Patel\",\"Ruchi\",\"Sagar Gupta\",\"Saloni\",\"Sangam Raja\",\"Shivam Singh\",\"Shyam Shukla\",\"Simran Garg\",\"Sonu Gupta\",\"Sudhanshu\",\"Janet Ma'am\",\"Kunal Kumawat\",\"Purushottam\"]\n"
      ],
      "metadata": {
        "id": "GupWayw6g8TY"
      },
      "execution_count": 5,
      "outputs": []
    },
    {
      "cell_type": "code",
      "source": [
        "#import face_recognition\n",
        "#for i in range(len(known_face_names)):\n",
        " # img = face_recognition.load_image_file('/content/drive/MyDrive/Images'+'for Facial Recognition/Images for Facial Recognition/205120004_Aditya Kumar Soni/205120004_Aditya Kumar Soni_1.jpeg')\n",
        "#aditya_face_encoding=face_recognition.face_encodings(img_of_aditya)[0] \n"
      ],
      "metadata": {
        "id": "qLTWegP8x1Ix"
      },
      "execution_count": 6,
      "outputs": []
    },
    {
      "cell_type": "code",
      "source": [
        "\n",
        "#Load a sample picture and learn how to recognize it.\n",
        "img_of_aditya=face_recognition.load_image_file('/content/drive/MyDrive/Images for Facial Recognition/Images for Facial Recognition/205120004_Aditya Kumar Soni/205120004_Aditya Kumar Soni_1.jpeg')\n",
        "aditya_face_encoding=face_recognition.face_encodings(img_of_aditya)[0]\n",
        "\n",
        "\n",
        "img_of_amar=face_recognition.load_image_file('/content/drive/MyDrive/Images for Facial Recognition/Images for Facial Recognition/205120012_Amar Sarkar/205120012_Amar Sarkar_1.jpeg')\n",
        "amar_face_encoding=face_recognition.face_encodings(img_of_amar)[0]\n",
        "\n",
        "img_of_amit=face_recognition.load_image_file('/content/drive/MyDrive/Images for Facial Recognition/Images for Facial Recognition/205120015_Amit Kumar/205120015_Amit Kumar_1.jpg')\n",
        "amit_face_encoding=face_recognition.face_encodings(img_of_amit)[0]\n",
        "\n",
        "\n",
        "img_of_ankit=face_recognition.load_image_file('/content/drive/MyDrive/Images for Facial Recognition/Images for Facial Recognition/205120018_Ankit Singh/205120018_Ankit Singh_1.jpg')\n",
        "ankit_face_encoding=face_recognition.face_encodings(img_of_ankit)[0]\n",
        "\n",
        "\n",
        "img_of_ashpreet=face_recognition.load_image_file('/content/drive/MyDrive/Images for Facial Recognition/Images for Facial Recognition/205120020_Arshpreet Kaur/205120020_Arshpreet Kaur_1.jpg')\n",
        "ashpreet_face_encoding=face_recognition.face_encodings(img_of_ashpreet)[0]\n",
        "\n",
        "\n",
        "img_of_kumar=face_recognition.load_image_file('/content/drive/MyDrive/Images for Facial Recognition/Images for Facial Recognition/205120025_Kumar Sharma/205120025_Kumar Sharma_1.jpg')\n",
        "kumar_face_encoding=face_recognition.face_encodings(img_of_kumar)[0]\n",
        "\n",
        "\n",
        "img_of_dvarkesh=face_recognition.load_image_file('/content/drive/MyDrive/Images for Facial Recognition/Images for Facial Recognition/205120030_Dvarkesh Gupta/205120030_Dvarkesh Gupta_1.jpeg')\n",
        "dvarkesh_face_encoding=face_recognition.face_encodings(img_of_dvarkesh)[0]\n",
        "\n",
        "\n",
        "img_of_harshit=face_recognition.load_image_file('/content/drive/MyDrive/Images for Facial Recognition/Images for Facial Recognition/205120031_Harshit Omar/205120031_Harshit Omar_1.jpeg')\n",
        "harshit_face_encoding=face_recognition.face_encodings(img_of_harshit)[0]\n",
        "\n",
        "\n",
        "img_of_harsh=face_recognition.load_image_file('/content/drive/MyDrive/Images for Facial Recognition/Images for Facial Recognition/205120032_Harsh Rai/205120032_Harsh Rai_1.jpg')\n",
        "harsh_face_encoding=face_recognition.face_encodings(img_of_harsh)[0]\n",
        "\n",
        "\n",
        "img_of_hrishikant=face_recognition.load_image_file('/content/drive/MyDrive/Images for Facial Recognition/Images for Facial Recognition/205120036_Hrishikant Mehta/205120036_Hrishikant Mehta_1.jpeg')\n",
        "hrishikant_face_encoding=face_recognition.face_encodings(img_of_hrishikant)[0]\n",
        "\n",
        "\n",
        "img_of_jayshree=face_recognition.load_image_file('/content/drive/MyDrive/Images for Facial Recognition/Images for Facial Recognition/205120038_Jayshree/205120038_Jayshree_1.jpg')\n",
        "jayshree_face_encoding=face_recognition.face_encodings(img_of_jayshree)[0]\n",
        "\n",
        "\n",
        "img_of_kanchan=face_recognition.load_image_file('/content/drive/MyDrive/Images for Facial Recognition/Images for Facial Recognition/205120040_Kanchan Kumar/205120040_Kanchan Kumar_1.jpg')\n",
        "kanchan_face_encoding=face_recognition.face_encodings(img_of_kanchan)[0]\n",
        "\n",
        "\n",
        "img_of_manish=face_recognition.load_image_file('/content/drive/MyDrive/Images for Facial Recognition/Images for Facial Recognition/205120048_Manish kumar/Manish kumar_1.jpg')\n",
        "manish_face_encoding=face_recognition.face_encodings(img_of_manish)[0]\n",
        "\n",
        "\n",
        "img_of_mayank=face_recognition.load_image_file('/content/drive/MyDrive/Images for Facial Recognition/Images for Facial Recognition/205120051_Mayank Kumar Singh/205120051_Mayank Kumar Singh_1.jpg')\n",
        "mayank_face_encoding=face_recognition.face_encodings(img_of_mayank)[0]\n",
        "\n",
        "\n",
        "img_of_nandani=face_recognition.load_image_file('/content/drive/MyDrive/Images for Facial Recognition/Images for Facial Recognition/205120055_Nandani Shah/205120055_Nandani Shah_1.jpeg')\n",
        "nandani_face_encoding=face_recognition.face_encodings(img_of_nandani)[0]\n",
        "\n",
        "img_of_navnita=face_recognition.load_image_file('/content/drive/MyDrive/Images for Facial Recognition/Images for Facial Recognition/205120057_Navnita/205120057_Navnita_1.jpeg')\n",
        "navnita_face_encoding=face_recognition.face_encodings(img_of_navnita)[0]\n",
        "\n",
        "img_of_neetu=face_recognition.load_image_file('/content/drive/MyDrive/Images for Facial Recognition/Images for Facial Recognition/205120060_NEETU/205120060_Neetu_1.jpg')\n",
        "neetu_face_encoding=face_recognition.face_encodings(img_of_neetu)[0]\n",
        "\n",
        "img_of_niteshagr=face_recognition.load_image_file('/content/drive/MyDrive/Images for Facial Recognition/Images for Facial Recognition/205120064_NItesh agrahari/205120064_NItesh agrahari_1.jpg')\n",
        "niteshagr_face_encoding=face_recognition.face_encodings(img_of_niteshagr)[0]\n",
        "\n",
        "img_of_niteshkr=face_recognition.load_image_file('/content/drive/MyDrive/Images for Facial Recognition/Images for Facial Recognition/205120065_Nitesh Kumar/205120065_Nitesh Kumar_1.jpg')\n",
        "niteshkr_face_encoding=face_recognition.face_encodings(img_of_niteshkr)[0]\n",
        "\n",
        "img_of_paras=face_recognition.load_image_file('/content/drive/MyDrive/Images for Facial Recognition/Images for Facial Recognition/205120069_Paras Tiwari/Paras Tiwari_1.jpg')\n",
        "paras_face_encoding=face_recognition.face_encodings(img_of_paras)[0]\n",
        "\n",
        "img_of_pooja=face_recognition.load_image_file('/content/drive/MyDrive/Images for Facial Recognition/Images for Facial Recognition/205120072_Pooja Yadav/205120072_Pooja Yadav_1.jpg')\n",
        "pooja_face_encoding=face_recognition.face_encodings(img_of_pooja)[0]\n",
        "\n",
        "\n",
        "img_of_priya=face_recognition.load_image_file('/content/drive/MyDrive/Images for Facial Recognition/Images for Facial Recognition/205120077_PriyaChowdhury/205120077_Priya_Chowdhury - 1.jpg')\n",
        "priya_face_encoding=face_recognition.face_encodings(img_of_priya)[0]\n",
        "\n",
        "\n",
        "img_of_puneet=face_recognition.load_image_file('/content/drive/MyDrive/Images for Facial Recognition/Images for Facial Recognition/205120078_Puneet Kumar/205120078_Puneet Kumar_1.jpg')\n",
        "puneet_face_encoding=face_recognition.face_encodings(img_of_puneet)[0]\n",
        "\n",
        "\n",
        "\n",
        "\n",
        "\n",
        "\n",
        "\n"
      ],
      "metadata": {
        "id": "eVpsUFUmhDs3"
      },
      "execution_count": 7,
      "outputs": []
    },
    {
      "cell_type": "code",
      "source": [
        "\n",
        "\n",
        "img_of_rishikant=face_recognition.load_image_file('/content/drive/MyDrive/Images for Facial Recognition/Images for Facial Recognition/205120082_Rishikant Patel/205120082_Rishikant Patel_2.jpg')\n",
        "rishikant_face_encoding=face_recognition.face_encodings(img_of_rishikant)[0]\n",
        "\n",
        "\n",
        "img_of_ruchi=face_recognition.load_image_file('/content/drive/MyDrive/Images for Facial Recognition/Images for Facial Recognition/205120083_Ruchi/205120083_Ruchi_Panse_1.jpeg')\n",
        "ruchi_face_encoding=face_recognition.face_encodings(img_of_ruchi)[0]\n",
        "\n",
        "\n",
        "img_of_sagar=face_recognition.load_image_file('/content/drive/MyDrive/Images for Facial Recognition/Images for Facial Recognition/205120086_Sagar Gupta/205120086_Sagar Gupta_1.jpg')\n",
        "sagar_face_encoding=face_recognition.face_encodings(img_of_sagar)[0]\n",
        "\n",
        "\n",
        "img_of_saloni=face_recognition.load_image_file('/content/drive/MyDrive/Images for Facial Recognition/Images for Facial Recognition/205120087_Saloni/205120087_Saloni_1.jpeg')\n",
        "saloni_face_encoding=face_recognition.face_encodings(img_of_saloni)[0]\n",
        "\n",
        "\n",
        "img_of_sangam=face_recognition.load_image_file('/content/drive/MyDrive/Images for Facial Recognition/Images for Facial Recognition/205120089_Sangam Raja/205120089_Sangam Raja_1.jpg')\n",
        "sangam_face_encoding=face_recognition.face_encodings(img_of_sangam)[0]\n",
        "\n",
        "\n",
        "img_of_shivam=face_recognition.load_image_file('/content/drive/MyDrive/Images for Facial Recognition/Images for Facial Recognition/205120098_Shivam Singh/205120098_Shivam Singh_2.jpg')\n",
        "shivam_face_encoding=face_recognition.face_encodings(img_of_shivam)[0]\n",
        "\n",
        "\n",
        "img_of_shyam=face_recognition.load_image_file('/content/drive/MyDrive/Images for Facial Recognition/Images for Facial Recognition/205120102_Shyam Shukla/205120102_Shyam Shukla_1.jpg')\n",
        "shyam_face_encoding=face_recognition.face_encodings(img_of_shyam)[0]\n",
        "\n",
        "\n",
        "img_of_simran=face_recognition.load_image_file('/content/drive/MyDrive/Images for Facial Recognition/Images for Facial Recognition/205120103_Simran Garg/205120103_SimranGarg_1.jpg')\n",
        "simran_face_encoding=face_recognition.face_encodings(img_of_simran)[0]\n",
        "\n",
        "\n",
        "img_of_sonu=face_recognition.load_image_file('/content/drive/MyDrive/Images for Facial Recognition/Images for Facial Recognition/205120104_Sonu Gupta/205120104_Sonu Gupta_1.jpg')\n",
        "sonu_face_encoding=face_recognition.face_encodings(img_of_sonu)[0]\n",
        "\n",
        "\n",
        "img_of_sudhanshu=face_recognition.load_image_file('/content/drive/MyDrive/Images for Facial Recognition/Images for Facial Recognition/205120105_Sudhanshu/205120105_Sudhanshu_1.JPG')\n",
        "sudhanshu_face_encoding=face_recognition.face_encodings(img_of_sudhanshu)[0]\n",
        "\n",
        "\n",
        "img_of_janet=face_recognition.load_image_file(\"/content/drive/MyDrive/Images for Facial Recognition/Images for Facial Recognition/Janet Ma'am/janet mam.jpg\")\n",
        "janet_face_encoding=face_recognition.face_encodings(img_of_janet)[0]\n",
        "\n",
        "\n",
        "img_of_kunal=face_recognition.load_image_file('/content/drive/MyDrive/Images for Facial Recognition/Images for Facial Recognition/Kunal Kumawat/Kunal Kumawat_1.JPG')\n",
        "kunal_face_encoding=face_recognition.face_encodings(img_of_kunal)[0]\n",
        "\n",
        "\n",
        "img_of_purushottam=face_recognition.load_image_file('/content/drive/MyDrive/Images for Facial Recognition/Images for Facial Recognition/Purushottam/purushottam - Copy.jpg')\n",
        "purushottam_face_encoding=face_recognition.face_encodings(img_of_purushottam)[0]\n",
        "\n",
        "\n",
        "\n",
        "\n"
      ],
      "metadata": {
        "id": "wP8cNYTHzGf6"
      },
      "execution_count": 8,
      "outputs": []
    },
    {
      "cell_type": "code",
      "source": [
        "#create array of encodings and names\n",
        "known_face_encodings=[\n",
        "                      aditya_face_encoding,amar_face_encoding,amit_face_encoding,ankit_face_encoding,ashpreet_face_encoding,kumar_face_encoding,dvarkesh_face_encoding,img_of_harshit,\n",
        "img_of_harsh,img_of_hrishikant,img_of_jayshree,img_of_kanchan,img_of_manish,img_of_mayank,img_of_nandani,img_of_navnita,img_of_neetu,img_of_niteshagr,img_of_niteshkr,img_of_paras,\n",
        "img_of_pooja,\n",
        "img_of_priya,img_of_puneet,img_of_rishikant,img_of_ruchi,img_of_sagar,img_of_saloni,img_of_sangam,img_of_shivam,img_of_shyam,img_of_simran,img_of_sonu,img_of_sudhanshu,img_of_janet,img_of_kunal,img_of_purushottam\n",
        "]\n",
        "\n",
        "\n",
        "#print(len(known_face_encodings))\n",
        "\n",
        "known_face_names=[\"Aditya Kumar Soni\",\n",
        "                  \"Amar Sarkar\",\"Amit Kumar\",\"Ankit Singh\",\"Ashpreet Kaur\",\"Kumar Sharma\",\"Dvarkesh Gupta\",\"Harshit Omar\",\"Harsh Rai\",\"Hrishikant Mehta\",\"jayshree\",\"Kanchan Kumar\",\"Manish Kumar\",\"Mayank Kumar\",\"Nandani Shah\",\"Navnita\",\"Neetu\",\"Nitesh agrahari\",\"Nitesh kumar\",\"Paras Tiwari\",\"Pooja Yadav\",\"Priya Chowdhury\",\"Puneet Kumar\",\"Rishikant Patel\",\"Ruchi\",\"Sagar Gupta\",\"Saloni\",\"Sangam Raja\",\"Shivam Singh\",\"Shyam Shukla\",\"Simran Garg\",\"Sonu Gupta\",\"Sudhanshu\",\"Janet Ma'am\",\"Kunal Kumawat\",\"Purushottam\"]\n",
        "#print(len(known_face_names))"
      ],
      "metadata": {
        "id": "gzS-ptaVhl19"
      },
      "execution_count": 13,
      "outputs": []
    },
    {
      "cell_type": "code",
      "source": [
        "#load test image to find faces in\n",
        "test_image=face_recognition.load_image_file('/content/drive/MyDrive/Untitled folder/test.jpg')\n",
        "\n",
        "#find faces in test image\n",
        "face_locations=face_recognition.face_locations(test_image)\n",
        "face_encodings=face_recognition.face_encodings(test_image,face_locations)\n",
        "\n",
        "#Convert to PIL format\n",
        "pil_image=Image.fromarray(test_image)\n",
        "#create a ImageDraw instance\n",
        "draw=ImageDraw.Draw(pil_image)\n",
        "\n",
        "#loop through faces im test image\n",
        "for(top,right,bottom,left),face_encoding in zip(face_locations,face_encodings):\n",
        "  #known_face_encodings=known_face_encodings.reshape(1,144,1).cpu().data.numpy()\n",
        "  #face_encoding=face_encoding.reshape(1,128,1)\n",
        "\n",
        "  matches=face_recognition.compare_faces(known_face_encodings,face_encoding)\n",
        "\n",
        "  name=\"Unknown Person\"\n",
        "\n",
        "  #if match\n",
        "  if True in matches:\n",
        "    first_match_index=matches.index(True)\n",
        "    name=known_face_names[first_match_index]\n",
        "\n",
        "  #Draw Rectangle\n",
        "  draw.rectangle(((left,top),(right,bottom)),outline=(0,0,0))\n",
        "\n",
        "  #Draw label\n",
        "  text_width,text_height=draw.textsize(name)\n",
        "  draw.rectangle(((left,bottom-text_height-10),(right,bottom)),fill=(0,0,0),outline=(0,0,0))\n",
        "  draw.text((left+6,bottom-text_height-5),name,fill=(255,255,255,255))\n",
        "#Remove the drawing library from memory as per the Pillow docs\n",
        "del draw\n",
        "\n",
        "\n",
        "display(pil_image)"
      ],
      "metadata": {
        "id": "D4UZOitcj2U-",
        "outputId": "0f86f39a-e23f-491b-c28c-da18d5da292c",
        "colab": {
          "base_uri": "https://localhost:8080/",
          "height": 445
        }
      },
      "execution_count": 20,
      "outputs": [
        {
          "output_type": "stream",
          "name": "stderr",
          "text": [
            "/usr/local/lib/python3.7/dist-packages/face_recognition/api.py:75: VisibleDeprecationWarning: Creating an ndarray from ragged nested sequences (which is a list-or-tuple of lists-or-tuples-or ndarrays with different lengths or shapes) is deprecated. If you meant to do this, you must specify 'dtype=object' when creating the ndarray.\n",
            "  return np.linalg.norm(face_encodings - face_to_compare, axis=1)\n"
          ]
        },
        {
          "output_type": "error",
          "ename": "ValueError",
          "evalue": "ignored",
          "traceback": [
            "\u001b[0;31m---------------------------------------------------------------------------\u001b[0m",
            "\u001b[0;31mValueError\u001b[0m                                Traceback (most recent call last)",
            "\u001b[0;32m<ipython-input-20-fcfeb14baaae>\u001b[0m in \u001b[0;36m<module>\u001b[0;34m()\u001b[0m\n\u001b[1;32m     16\u001b[0m   \u001b[0;31m#face_encoding=face_encoding.reshape(1,128,1)\u001b[0m\u001b[0;34m\u001b[0m\u001b[0;34m\u001b[0m\u001b[0;34m\u001b[0m\u001b[0m\n\u001b[1;32m     17\u001b[0m \u001b[0;34m\u001b[0m\u001b[0m\n\u001b[0;32m---> 18\u001b[0;31m   \u001b[0mmatches\u001b[0m\u001b[0;34m=\u001b[0m\u001b[0mface_recognition\u001b[0m\u001b[0;34m.\u001b[0m\u001b[0mcompare_faces\u001b[0m\u001b[0;34m(\u001b[0m\u001b[0mknown_face_encodings\u001b[0m\u001b[0;34m,\u001b[0m\u001b[0mface_encoding\u001b[0m\u001b[0;34m)\u001b[0m\u001b[0;34m\u001b[0m\u001b[0;34m\u001b[0m\u001b[0m\n\u001b[0m\u001b[1;32m     19\u001b[0m \u001b[0;34m\u001b[0m\u001b[0m\n\u001b[1;32m     20\u001b[0m   \u001b[0mname\u001b[0m\u001b[0;34m=\u001b[0m\u001b[0;34m\"Unknown Person\"\u001b[0m\u001b[0;34m\u001b[0m\u001b[0;34m\u001b[0m\u001b[0m\n",
            "\u001b[0;32m/usr/local/lib/python3.7/dist-packages/face_recognition/api.py\u001b[0m in \u001b[0;36mcompare_faces\u001b[0;34m(known_face_encodings, face_encoding_to_check, tolerance)\u001b[0m\n\u001b[1;32m    224\u001b[0m     \u001b[0;34m:\u001b[0m\u001b[0;32mreturn\u001b[0m\u001b[0;34m:\u001b[0m \u001b[0mA\u001b[0m \u001b[0mlist\u001b[0m \u001b[0mof\u001b[0m \u001b[0;32mTrue\u001b[0m\u001b[0;34m/\u001b[0m\u001b[0;32mFalse\u001b[0m \u001b[0mvalues\u001b[0m \u001b[0mindicating\u001b[0m \u001b[0mwhich\u001b[0m \u001b[0mknown_face_encodings\u001b[0m \u001b[0mmatch\u001b[0m \u001b[0mthe\u001b[0m \u001b[0mface\u001b[0m \u001b[0mencoding\u001b[0m \u001b[0mto\u001b[0m \u001b[0mcheck\u001b[0m\u001b[0;34m\u001b[0m\u001b[0;34m\u001b[0m\u001b[0m\n\u001b[1;32m    225\u001b[0m     \"\"\"\n\u001b[0;32m--> 226\u001b[0;31m     \u001b[0;32mreturn\u001b[0m \u001b[0mlist\u001b[0m\u001b[0;34m(\u001b[0m\u001b[0mface_distance\u001b[0m\u001b[0;34m(\u001b[0m\u001b[0mknown_face_encodings\u001b[0m\u001b[0;34m,\u001b[0m \u001b[0mface_encoding_to_check\u001b[0m\u001b[0;34m)\u001b[0m \u001b[0;34m<=\u001b[0m \u001b[0mtolerance\u001b[0m\u001b[0;34m)\u001b[0m\u001b[0;34m\u001b[0m\u001b[0;34m\u001b[0m\u001b[0m\n\u001b[0m",
            "\u001b[0;32m/usr/local/lib/python3.7/dist-packages/face_recognition/api.py\u001b[0m in \u001b[0;36mface_distance\u001b[0;34m(face_encodings, face_to_compare)\u001b[0m\n\u001b[1;32m     73\u001b[0m         \u001b[0;32mreturn\u001b[0m \u001b[0mnp\u001b[0m\u001b[0;34m.\u001b[0m\u001b[0mempty\u001b[0m\u001b[0;34m(\u001b[0m\u001b[0;34m(\u001b[0m\u001b[0;36m0\u001b[0m\u001b[0;34m)\u001b[0m\u001b[0;34m)\u001b[0m\u001b[0;34m\u001b[0m\u001b[0;34m\u001b[0m\u001b[0m\n\u001b[1;32m     74\u001b[0m \u001b[0;34m\u001b[0m\u001b[0m\n\u001b[0;32m---> 75\u001b[0;31m     \u001b[0;32mreturn\u001b[0m \u001b[0mnp\u001b[0m\u001b[0;34m.\u001b[0m\u001b[0mlinalg\u001b[0m\u001b[0;34m.\u001b[0m\u001b[0mnorm\u001b[0m\u001b[0;34m(\u001b[0m\u001b[0mface_encodings\u001b[0m \u001b[0;34m-\u001b[0m \u001b[0mface_to_compare\u001b[0m\u001b[0;34m,\u001b[0m \u001b[0maxis\u001b[0m\u001b[0;34m=\u001b[0m\u001b[0;36m1\u001b[0m\u001b[0;34m)\u001b[0m\u001b[0;34m\u001b[0m\u001b[0;34m\u001b[0m\u001b[0m\n\u001b[0m\u001b[1;32m     76\u001b[0m \u001b[0;34m\u001b[0m\u001b[0m\n\u001b[1;32m     77\u001b[0m \u001b[0;34m\u001b[0m\u001b[0m\n",
            "\u001b[0;31mValueError\u001b[0m: operands could not be broadcast together with shapes (36,) (128,) "
          ]
        }
      ]
    },
    {
      "cell_type": "code",
      "source": [
        ""
      ],
      "metadata": {
        "id": "ed0xISYBBzck"
      },
      "execution_count": null,
      "outputs": []
    }
  ]
}