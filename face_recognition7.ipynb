{
  "nbformat": 4,
  "nbformat_minor": 0,
  "metadata": {
    "colab": {
      "name": "Untitled7.ipynb",
      "provenance": [],
      "authorship_tag": "ABX9TyNBCqlzT/xaVhmfq2IG9vwH",
      "include_colab_link": true
    },
    "kernelspec": {
      "name": "python3",
      "display_name": "Python 3"
    },
    "language_info": {
      "name": "python"
    },
    "accelerator": "GPU"
  },
  "cells": [
    {
      "cell_type": "markdown",
      "metadata": {
        "id": "view-in-github",
        "colab_type": "text"
      },
      "source": [
        "<a href=\"https://colab.research.google.com/github/imprincesarraf/face-detection-face-recognition-and-emotion-detection/blob/main/face_recognition7.ipynb\" target=\"_parent\"><img src=\"https://colab.research.google.com/assets/colab-badge.svg\" alt=\"Open In Colab\"/></a>"
      ]
    },
    {
      "cell_type": "code",
      "execution_count": 2,
      "metadata": {
        "colab": {
          "base_uri": "https://localhost:8080/"
        },
        "id": "F-zx6vKTfNkj",
        "outputId": "3e829dc3-921f-4bd2-e5b8-5910a623f279"
      },
      "outputs": [
        {
          "output_type": "stream",
          "name": "stdout",
          "text": [
            "Looking in indexes: https://pypi.org/simple, https://us-python.pkg.dev/colab-wheels/public/simple/\n",
            "Collecting face_recognition\n",
            "  Downloading face_recognition-1.3.0-py2.py3-none-any.whl (15 kB)\n",
            "Requirement already satisfied: Click>=6.0 in /usr/local/lib/python3.7/dist-packages (from face_recognition) (7.1.2)\n",
            "Requirement already satisfied: dlib>=19.7 in /usr/local/lib/python3.7/dist-packages (from face_recognition) (19.18.0+zzzcolab20220513001918)\n",
            "Requirement already satisfied: Pillow in /usr/local/lib/python3.7/dist-packages (from face_recognition) (7.1.2)\n",
            "Collecting face-recognition-models>=0.3.0\n",
            "  Downloading face_recognition_models-0.3.0.tar.gz (100.1 MB)\n",
            "\u001b[K     |████████████████████████████████| 100.1 MB 22 kB/s \n",
            "\u001b[?25hRequirement already satisfied: numpy in /usr/local/lib/python3.7/dist-packages (from face_recognition) (1.21.6)\n",
            "Building wheels for collected packages: face-recognition-models\n",
            "  Building wheel for face-recognition-models (setup.py) ... \u001b[?25l\u001b[?25hdone\n",
            "  Created wheel for face-recognition-models: filename=face_recognition_models-0.3.0-py2.py3-none-any.whl size=100566186 sha256=ce77ba444f63a5adecbc518ca70c5b9cf24f338b70c4c42046097d7801496238\n",
            "  Stored in directory: /root/.cache/pip/wheels/d6/81/3c/884bcd5e1c120ff548d57c2ecc9ebf3281c9a6f7c0e7e7947a\n",
            "Successfully built face-recognition-models\n",
            "Installing collected packages: face-recognition-models, face-recognition\n",
            "Successfully installed face-recognition-1.3.0 face-recognition-models-0.3.0\n"
          ]
        }
      ],
      "source": [
        "!pip install face_recognition"
      ]
    },
    {
      "cell_type": "code",
      "source": [
        "import matplotlib.pyplot as plt\n",
        "from google.colab.patches import cv2_imshow\n",
        "import face_recognition \n",
        "import cv2 \n"
      ],
      "metadata": {
        "id": "QWqymHdbfOmK"
      },
      "execution_count": 3,
      "outputs": []
    },
    {
      "cell_type": "code",
      "source": [
        "from google.colab import drive\n",
        "drive.mount('/content/drive')"
      ],
      "metadata": {
        "colab": {
          "base_uri": "https://localhost:8080/"
        },
        "id": "Q272DGjxf7t8",
        "outputId": "3b4bc590-f68f-44e5-fd5d-9f3eaa1d92d2"
      },
      "execution_count": 4,
      "outputs": [
        {
          "output_type": "stream",
          "name": "stdout",
          "text": [
            "Mounted at /content/drive\n"
          ]
        }
      ]
    },
    {
      "cell_type": "code",
      "source": [
        "from PIL import Image\n",
        "import face_recognition\n",
        "image=face_recognition.load_image_file('/content/drive/MyDrive/Untitled folder/test.jpg')\n",
        "face_locations=face_recognition.face_locations(image)\n",
        "#print(face_locations)\n",
        "\n",
        "for face_location in face_locations:\n",
        "  top,right,bottom,left=face_location\n",
        "  face_image=image[top:bottom,left:right]\n",
        "  pil_image=Image.fromarray(face_image)\n",
        "  pil_image.show()\n",
        "  pil_image.save(f'{top}.jpg')"
      ],
      "metadata": {
        "id": "1DFQ6KQEf8yo"
      },
      "execution_count": 5,
      "outputs": []
    },
    {
      "cell_type": "code",
      "source": [
        "import face_recognition\n",
        "from PIL import Image,ImageDraw\n",
        "\n",
        "known_face_names=[\"Aditya Kumar Soni\",\n",
        "                  \"Amar Sarkar\",\"Amit Kumar\",\"Ankit Singh\",\"Ashpreet Kaur\",\"Kumar Sharma\",\"Dvarkesh Gupta\",\"Harshit Omar\",\"Harsh Rai\",\"Hrishikant Mehta\",\"jayshree\",\"Kanchan Kumar\",\"Manish Kumar\",\"Mayank Kumar\",\"Nandani Shah\",\"Navnita\",\"Neetu\",\"Nitesh agrahari\",\"Nitesh kumar\",\"Paras Tiwari\",\"Pooja Yadav\",\"Priya Chowdhury\",\"Puneet Kumar\",\"Rishikant Patel\",\"Ruchi\",\"Sagar Gupta\",\"Saloni\",\"Sangam Raja\",\"Shivam Singh\",\"Shyam Shukla\",\"Simran Garg\",\"Sonu Gupta\",\"Sudhanshu\",\"Janet Ma'am\",\"Kunal Kumawat\",\"Purushottam\"]\n"
      ],
      "metadata": {
        "id": "GupWayw6g8TY"
      },
      "execution_count": 16,
      "outputs": []
    },
    {
      "cell_type": "code",
      "source": [
        "import face_recognition\n",
        "for i in range(len(known_face_names)):\n",
        "  img = face_recognition.load_image_file('/content/drive/MyDrive/Images'+'for Facial Recognition/Images for Facial Recognition/205120004_Aditya Kumar Soni/205120004_Aditya Kumar Soni_1.jpeg')\n",
        "aditya_face_encoding=face_recognition.face_encodings(img_of_aditya)[0] \n"
      ],
      "metadata": {
        "id": "qLTWegP8x1Ix"
      },
      "execution_count": null,
      "outputs": []
    },
    {
      "cell_type": "code",
      "source": [
        "\n",
        "img_of_aditya=face_recognition.load_image_file('/content/drive/MyDrive/Images for Facial Recognition/Images for Facial Recognition/205120004_Aditya Kumar Soni/205120004_Aditya Kumar Soni_1.jpeg')\n",
        "aditya_face_encoding=face_recognition.face_encodings(img_of_aditya)[0]\n",
        "\n",
        "\n",
        "img_of_amar=face_recognition.load_image_file('/content/drive/MyDrive/Images for Facial Recognition/Images for Facial Recognition/205120012_Amar Sarkar/205120012_Amar Sarkar_1.jpeg')\n",
        "amar_face_encoding=face_recognition.face_encodings(img_of_amar)[0]\n",
        "\n",
        "img_of_amit=face_recognition.load_image_file('/content/drive/MyDrive/Images for Facial Recognition/Images for Facial Recognition/205120015_Amit Kumar/205120015_Amit Kumar_1.jpg')\n",
        "amit_face_encoding=face_recognition.face_encodings(img_of_amit)[0]\n",
        "\n",
        "\n",
        "img_of_ankit=face_recognition.load_image_file('/content/drive/MyDrive/Images for Facial Recognition/Images for Facial Recognition/205120018_Ankit Singh/205120018_Ankit Singh_1.jpg')\n",
        "ankit_face_encoding=face_recognition.face_encodings(img_of_ankit)[0]\n",
        "\n",
        "\n",
        "img_of_ashpreet=face_recognition.load_image_file('/content/drive/MyDrive/Images for Facial Recognition/Images for Facial Recognition/205120020_Arshpreet Kaur/205120020_Arshpreet Kaur_1.jpg')\n",
        "ashpreet_face_encoding=face_recognition.face_encodings(img_of_ashpreet)[0]\n",
        "\n",
        "\n",
        "img_of_kumar=face_recognition.load_image_file('/content/drive/MyDrive/Images for Facial Recognition/Images for Facial Recognition/205120025_Kumar Sharma/205120025_Kumar Sharma_1.jpg')\n",
        "kumar_face_encoding=face_recognition.face_encodings(img_of_kumar)[0]\n",
        "\n",
        "\n",
        "img_of_dvarkesh=face_recognition.load_image_file('/content/drive/MyDrive/Images for Facial Recognition/Images for Facial Recognition/205120030_Dvarkesh Gupta/205120030_Dvarkesh Gupta_1.jpeg')\n",
        "dvarkesh_face_encoding=face_recognition.face_encodings(img_of_dvarkesh)[0]\n",
        "\n",
        "\n",
        "img_of_harshit=face_recognition.load_image_file('/content/drive/MyDrive/Images for Facial Recognition/Images for Facial Recognition/205120031_Harshit Omar/205120031_Harshit Omar_1.jpeg')\n",
        "harshit_face_encoding=face_recognition.face_encodings(img_of_harshit)[0]\n",
        "\n",
        "\n",
        "img_of_harsh=face_recognition.load_image_file('/content/drive/MyDrive/Images for Facial Recognition/Images for Facial Recognition/205120032_Harsh Rai/205120032_Harsh Rai_1.jpg')\n",
        "harsh_face_encoding=face_recognition.face_encodings(img_of_harsh)[0]\n",
        "\n",
        "\n",
        "img_of_hrishikant=face_recognition.load_image_file('/content/drive/MyDrive/Images for Facial Recognition/Images for Facial Recognition/205120036_Hrishikant Mehta/205120036_Hrishikant Mehta_1.jpeg')\n",
        "hrishikant_face_encoding=face_recognition.face_encodings(img_of_hrishikant)[0]\n",
        "\n",
        "\n",
        "img_of_jayshree=face_recognition.load_image_file('/content/drive/MyDrive/Images for Facial Recognition/Images for Facial Recognition/205120038_Jayshree/205120038_Jayshree_1.jpg')\n",
        "jayshree_face_encoding=face_recognition.face_encodings(img_of_jayshree)[0]\n",
        "\n",
        "\n",
        "img_of_kanchan=face_recognition.load_image_file('/content/drive/MyDrive/Images for Facial Recognition/Images for Facial Recognition/205120040_Kanchan Kumar/205120040_Kanchan Kumar_1.jpg')\n",
        "kanchan_face_encoding=face_recognition.face_encodings(img_of_kanchan)[0]\n",
        "\n",
        "\n",
        "img_of_manish=face_recognition.load_image_file('/content/drive/MyDrive/Images for Facial Recognition/Images for Facial Recognition/205120048_Manish kumar/Manish kumar_1.jpg')\n",
        "manish_face_encoding=face_recognition.face_encodings(img_of_manish)[0]\n",
        "\n",
        "\n",
        "img_of_mayank=face_recognition.load_image_file('/content/drive/MyDrive/Images for Facial Recognition/Images for Facial Recognition/205120051_Mayank Kumar Singh/205120051_Mayank Kumar Singh_1.jpg')\n",
        "mayank_face_encoding=face_recognition.face_encodings(img_of_mayank)[0]\n",
        "\n",
        "\n",
        "img_of_nandani=face_recognition.load_image_file('/content/drive/MyDrive/Images for Facial Recognition/Images for Facial Recognition/205120055_Nandani Shah/205120055_Nandani Shah_1.jpeg')\n",
        "nandani_face_encoding=face_recognition.face_encodings(img_of_nandani)[0]\n",
        "\n",
        "img_of_navnita=face_recognition.load_image_file('/content/drive/MyDrive/Images for Facial Recognition/Images for Facial Recognition/205120057_Navnita/205120057_Navnita_1.jpeg')\n",
        "navnita_face_encoding=face_recognition.face_encodings(img_of_navnita)[0]\n",
        "\n",
        "img_of_neetu=face_recognition.load_image_file('/content/drive/MyDrive/Images for Facial Recognition/Images for Facial Recognition/205120060_NEETU/205120060_Neetu_1.jpg')\n",
        "neetu_face_encoding=face_recognition.face_encodings(img_of_neetu)[0]\n",
        "\n",
        "img_of_niteshagr=face_recognition.load_image_file('/content/drive/MyDrive/Images for Facial Recognition/Images for Facial Recognition/205120064_NItesh agrahari/205120064_NItesh agrahari_1.jpg')\n",
        "niteshagr_face_encoding=face_recognition.face_encodings(img_of_niteshagr)[0]\n",
        "\n",
        "img_of_niteshkr=face_recognition.load_image_file('/content/drive/MyDrive/Images for Facial Recognition/Images for Facial Recognition/205120065_Nitesh Kumar/205120065_Nitesh Kumar_1.jpg')\n",
        "niteshkr_face_encoding=face_recognition.face_encodings(img_of_niteshkr)[0]\n",
        "\n",
        "img_of_paras=face_recognition.load_image_file('/content/drive/MyDrive/Images for Facial Recognition/Images for Facial Recognition/205120069_Paras Tiwari/Paras Tiwari_1.jpg')\n",
        "paras_face_encoding=face_recognition.face_encodings(img_of_paras)[0]\n",
        "\n",
        "img_of_pooja=face_recognition.load_image_file('/content/drive/MyDrive/Images for Facial Recognition/Images for Facial Recognition/205120072_Pooja Yadav/205120072_Pooja Yadav_1.jpg')\n",
        "pooja_face_encoding=face_recognition.face_encodings(img_of_pooja)[0]\n",
        "\n",
        "\n",
        "img_of_priya=face_recognition.load_image_file('/content/drive/MyDrive/Images for Facial Recognition/Images for Facial Recognition/205120077_PriyaChowdhury/205120077_Priya_Chowdhury - 1.jpg')\n",
        "priya_face_encoding=face_recognition.face_encodings(img_of_priya)[0]\n",
        "\n",
        "\n",
        "img_of_puneet=face_recognition.load_image_file('/content/drive/MyDrive/Images for Facial Recognition/Images for Facial Recognition/205120078_Puneet Kumar/205120078_Puneet Kumar_1.jpg')\n",
        "puneet_face_encoding=face_recognition.face_encodings(img_of_puneet)[0]\n",
        "\n",
        "\n",
        "\n",
        "\n",
        "\n",
        "\n",
        "\n"
      ],
      "metadata": {
        "id": "eVpsUFUmhDs3"
      },
      "execution_count": 26,
      "outputs": []
    },
    {
      "cell_type": "code",
      "source": [
        "\n",
        "\n",
        "img_of_rishikant=face_recognition.load_image_file('/content/drive/MyDrive/Images for Facial Recognition/Images for Facial Recognition/205120082_Rishikant Patel/205120082_Rishikant Patel_2.jpg')\n",
        "rishikant_face_encoding=face_recognition.face_encodings(img_of_rishikant)[0]\n",
        "\n",
        "\n",
        "img_of_ruchi=face_recognition.load_image_file('/content/drive/MyDrive/Images for Facial Recognition/Images for Facial Recognition/205120083_Ruchi/205120083_Ruchi_Panse_1.jpeg')\n",
        "ruchi_face_encoding=face_recognition.face_encodings(img_of_ruchi)[0]\n",
        "\n",
        "\n",
        "img_of_sagar=face_recognition.load_image_file('/content/drive/MyDrive/Images for Facial Recognition/Images for Facial Recognition/205120086_Sagar Gupta/205120086_Sagar Gupta_1.jpg')\n",
        "sagar_face_encoding=face_recognition.face_encodings(img_of_sagar)[0]\n",
        "\n",
        "\n",
        "img_of_saloni=face_recognition.load_image_file('/content/drive/MyDrive/Images for Facial Recognition/Images for Facial Recognition/205120087_Saloni/205120087_Saloni_1.jpeg')\n",
        "saloni_face_encoding=face_recognition.face_encodings(img_of_saloni)[0]\n",
        "\n",
        "\n",
        "img_of_sangam=face_recognition.load_image_file('/content/drive/MyDrive/Images for Facial Recognition/Images for Facial Recognition/205120089_Sangam Raja/205120089_Sangam Raja_1.jpg')\n",
        "sangam_face_encoding=face_recognition.face_encodings(img_of_sangam)[0]\n",
        "\n",
        "\n",
        "img_of_shivam=face_recognition.load_image_file('/content/drive/MyDrive/Images for Facial Recognition/Images for Facial Recognition/205120098_Shivam Singh/205120098_Shivam Singh_2.jpg')\n",
        "shivam_face_encoding=face_recognition.face_encodings(img_of_shivam)[0]\n",
        "\n",
        "\n",
        "img_of_shyam=face_recognition.load_image_file('/content/drive/MyDrive/Images for Facial Recognition/Images for Facial Recognition/205120102_Shyam Shukla/205120102_Shyam Shukla_1.jpg')\n",
        "shyam_face_encoding=face_recognition.face_encodings(img_of_shyam)[0]\n",
        "\n",
        "\n",
        "img_of_simran=face_recognition.load_image_file('/content/drive/MyDrive/Images for Facial Recognition/Images for Facial Recognition/205120103_Simran Garg/205120103_SimranGarg_1.jpg')\n",
        "simran_face_encoding=face_recognition.face_encodings(img_of_simran)[0]\n",
        "\n",
        "\n",
        "img_of_sonu=face_recognition.load_image_file('/content/drive/MyDrive/Images for Facial Recognition/Images for Facial Recognition/205120104_Sonu Gupta/205120104_Sonu Gupta_1.jpg')\n",
        "sonu_face_encoding=face_recognition.face_encodings(img_of_sonu)[0]\n",
        "\n",
        "\n",
        "img_of_sudhanshu=face_recognition.load_image_file('/content/drive/MyDrive/Images for Facial Recognition/Images for Facial Recognition/205120105_Sudhanshu/205120105_Sudhanshu_1.JPG')\n",
        "sudhanshu_face_encoding=face_recognition.face_encodings(img_of_sudhanshu)[0]\n",
        "\n",
        "\n",
        "img_of_janet=face_recognition.load_image_file(\"/content/drive/MyDrive/Images for Facial Recognition/Images for Facial Recognition/Janet Ma'am/janet mam.jpg\")\n",
        "janet_face_encoding=face_recognition.face_encodings(img_of_janet)[0]\n",
        "\n",
        "\n",
        "img_of_kunal=face_recognition.load_image_file('/content/drive/MyDrive/Images for Facial Recognition/Images for Facial Recognition/Kunal Kumawat/Kunal Kumawat_1.JPG')\n",
        "kunal_face_encoding=face_recognition.face_encodings(img_of_kunal)[0]\n",
        "\n",
        "\n",
        "img_of_purushottam=face_recognition.load_image_file('/content/drive/MyDrive/Images for Facial Recognition/Images for Facial Recognition/Purushottam/purushottam - Copy.jpg')\n",
        "purushottam_face_encoding=face_recognition.face_encodings(img_of_purushottam)[0]\n",
        "\n",
        "\n",
        "\n",
        "\n"
      ],
      "metadata": {
        "id": "wP8cNYTHzGf6"
      },
      "execution_count": 27,
      "outputs": []
    },
    {
      "cell_type": "code",
      "source": [
        "#create array of encodings and names\n",
        "known_face_encodings=[\n",
        "                      aditya_face_encoding,amar_face_encoding,amit_face_encoding,ankit_face_encoding,ashpreet_face_encoding,kumar_face_encoding,dvarkesh_face_encoding,img_of_harshit,\n",
        "img_of_harsh,img_of_hrishikant,img_of_jayshree,img_of_kanchan,img_of_manish,img_of_mayank,img_of_nandani,img_of_navnita,img_of_neetu,img_of_niteshagr,img_of_niteshkr,img_of_paras,\n",
        "img_of_pooja,\n",
        "img_of_priya,img_of_puneet,img_of_rishikant,img_of_ruchi,img_of_sagar,img_of_saloni,img_of_sangam,img_of_shivam,img_of_shyam,img_of_simran,img_of_sonu,img_of_sudhanshu,img_of_janet,img_of_kunal,img_of_purushottam\n",
        "]\n",
        "\n",
        "\n",
        "known_face_names=[\"Aditya Kumar Soni\",\n",
        "                  \"Amar Sarkar\",\"Amit Kumar\",\"Ankit Singh\",\"Ashpreet Kaur\",\"Kumar Sharma\",\"Dvarkesh Gupta\",\"Harshit Omar\",\"Harsh Rai\",\"Hrishikant Mehta\",\"jayshree\",\"Kanchan Kumar\",\"Manish Kumar\",\"Mayank Kumar\",\"Nandani Shah\",\"Navnita\",\"Neetu\",\"Nitesh agrahari\",\"Nitesh kumar\",\"Paras Tiwari\",\"Pooja Yadav\",\"Priya Chowdhury\",\"Puneet Kumar\",\"Rishikant Patel\",\"Ruchi\",\"Sagar Gupta\",\"Saloni\",\"Sangam Raja\",\"Shivam Singh\",\"Shyam Shukla\",\"Simran Garg\",\"Sonu Gupta\",\"Sudhanshu\",\"Janet Ma'am\",\"Kunal Kumawat\",\"Purushottam\"]\n"
      ],
      "metadata": {
        "id": "gzS-ptaVhl19"
      },
      "execution_count": 25,
      "outputs": []
    }
  ]
}